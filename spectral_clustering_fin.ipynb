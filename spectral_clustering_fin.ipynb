{
 "cells": [
  {
   "cell_type": "code",
   "execution_count": 0,
   "metadata": {
    "colab": {},
    "colab_type": "code",
    "id": "PxbU1IYZydEM"
   },
   "outputs": [],
   "source": [
    "# !pip install pyamg"
   ]
  },
  {
   "cell_type": "code",
   "execution_count": 0,
   "metadata": {
    "colab": {},
    "colab_type": "code",
    "id": "afg_7UFJEiZY"
   },
   "outputs": [],
   "source": [
    "import pandas as pd \n",
    "import matplotlib.pyplot as plt \n",
    "from sklearn.cluster import SpectralClustering \n",
    "from sklearn.preprocessing import StandardScaler, normalize \n",
    "import io, csv, os\n",
    "import numpy as np\n",
    "from collections import defaultdict\n",
    "import pickle\n",
    "import scipy\n",
    "import sklearn.metrics"
   ]
  },
  {
   "cell_type": "code",
   "execution_count": 0,
   "metadata": {
    "colab": {},
    "colab_type": "code",
    "id": "fwcIn0NCMKO5"
   },
   "outputs": [],
   "source": [
    "import itertools\n",
    "from multiprocessing import Pool #  Process pool\n",
    "from multiprocessing import sharedctypes"
   ]
  },
  {
   "cell_type": "code",
   "execution_count": 0,
   "metadata": {
    "colab": {},
    "colab_type": "code",
    "id": "kPxp0vphkQns"
   },
   "outputs": [],
   "source": [
    "base_path = \"/content/drive/My Drive/Q3 Spring 20/ML/modeling/spectral-clustering/\""
   ]
  },
  {
   "cell_type": "code",
   "execution_count": 0,
   "metadata": {
    "colab": {},
    "colab_type": "code",
    "id": "W9ylEcFVQ3fa"
   },
   "outputs": [],
   "source": [
    "os.makedirs(base_path + '/obj/', exist_ok=True)\n",
    "def save_obj(obj, name ):\n",
    "    with open( base_path + '/obj/'+ name + '.pkl', 'wb') as f:\n",
    "        pickle.dump(obj, f, pickle.HIGHEST_PROTOCOL)\n",
    "\n",
    "def load_obj(name ):\n",
    "    with open(base_path + '/obj/' + name + '.pkl', 'rb') as f:\n",
    "        return pickle.load(f)"
   ]
  },
  {
   "cell_type": "code",
   "execution_count": 5,
   "metadata": {
    "colab": {
     "base_uri": "https://localhost:8080/",
     "height": 110
    },
    "colab_type": "code",
    "id": "y73COd0SivLK",
    "outputId": "a0f67165-264d-4825-a336-9a4b22ad4de2"
   },
   "outputs": [
    {
     "data": {
      "text/html": [
       "<div>\n",
       "<style scoped>\n",
       "    .dataframe tbody tr th:only-of-type {\n",
       "        vertical-align: middle;\n",
       "    }\n",
       "\n",
       "    .dataframe tbody tr th {\n",
       "        vertical-align: top;\n",
       "    }\n",
       "\n",
       "    .dataframe thead th {\n",
       "        text-align: right;\n",
       "    }\n",
       "</style>\n",
       "<table border=\"1\" class=\"dataframe\">\n",
       "  <thead>\n",
       "    <tr style=\"text-align: right;\">\n",
       "      <th></th>\n",
       "      <th>movie-id</th>\n",
       "      <th>customer-id</th>\n",
       "      <th>rating</th>\n",
       "      <th>date</th>\n",
       "    </tr>\n",
       "  </thead>\n",
       "  <tbody>\n",
       "    <tr>\n",
       "      <th>0</th>\n",
       "      <td>1262</td>\n",
       "      <td>24294</td>\n",
       "      <td>4</td>\n",
       "      <td>2004-07-04</td>\n",
       "    </tr>\n",
       "    <tr>\n",
       "      <th>1</th>\n",
       "      <td>1810</td>\n",
       "      <td>18187</td>\n",
       "      <td>3</td>\n",
       "      <td>2004-03-12</td>\n",
       "    </tr>\n",
       "  </tbody>\n",
       "</table>\n",
       "</div>"
      ],
      "text/plain": [
       "   movie-id  customer-id  rating        date\n",
       "0      1262        24294       4  2004-07-04\n",
       "1      1810        18187       3  2004-03-12"
      ]
     },
     "execution_count": 5,
     "metadata": {
      "tags": []
     },
     "output_type": "execute_result"
    }
   ],
   "source": [
    "raw_df = pd.read_csv( base_path + \"train.csv\")\n",
    "raw_df.head(2)"
   ]
  },
  {
   "cell_type": "code",
   "execution_count": 0,
   "metadata": {
    "colab": {},
    "colab_type": "code",
    "id": "Fbciig1aT0Jm"
   },
   "outputs": [],
   "source": [
    "from sklearn.utils import shuffle\n",
    "raw_df = shuffle(raw_df)\n",
    "raw_df = raw_df.reset_index(drop=True)"
   ]
  },
  {
   "cell_type": "code",
   "execution_count": 0,
   "metadata": {
    "colab": {},
    "colab_type": "code",
    "id": "5eAiMYPLzdvp"
   },
   "outputs": [],
   "source": [
    "split_index = round(0.0 * raw_df.shape[0])\n",
    "train_df = raw_df[split_index: ]\n",
    "validate_df = raw_df[: split_index]"
   ]
  },
  {
   "cell_type": "code",
   "execution_count": 7,
   "metadata": {
    "colab": {
     "base_uri": "https://localhost:8080/",
     "height": 35
    },
    "colab_type": "code",
    "id": "cKsvcp1Qz9NM",
    "outputId": "111a5eb4-f082-41dc-ff47-51143b5efccc"
   },
   "outputs": [
    {
     "name": "stdout",
     "output_type": "stream",
     "text": [
      "(1000000, 4) (0, 4)\n"
     ]
    }
   ],
   "source": [
    "print(train_df.shape, validate_df.shape)"
   ]
  },
  {
   "cell_type": "code",
   "execution_count": 0,
   "metadata": {
    "colab": {},
    "colab_type": "code",
    "id": "9xIU-H8WspWE"
   },
   "outputs": [],
   "source": [
    "train_customers = train_df['customer-id']\n",
    "train_cid_sorted = train_customers.sort_values()\n",
    "train_movies = train_df['movie-id']\n",
    "train_mid_sorted = train_movies.sort_values()"
   ]
  },
  {
   "cell_type": "code",
   "execution_count": 9,
   "metadata": {
    "colab": {
     "base_uri": "https://localhost:8080/",
     "height": 35
    },
    "colab_type": "code",
    "id": "2_LeUh4HspTK",
    "outputId": "4f2d4d18-42e6-4917-d3a0-d3f7f2b335d5"
   },
   "outputs": [
    {
     "name": "stdout",
     "output_type": "stream",
     "text": [
      "5905\n"
     ]
    }
   ],
   "source": [
    "train_cid = {}\n",
    "cursor = 0\n",
    "for val in train_cid_sorted:\n",
    "    if val not in train_cid:\n",
    "        train_cid[val] = cursor\n",
    "        cursor += 1\n",
    "print(len(train_cid))"
   ]
  },
  {
   "cell_type": "code",
   "execution_count": 10,
   "metadata": {
    "colab": {
     "base_uri": "https://localhost:8080/",
     "height": 35
    },
    "colab_type": "code",
    "id": "HmemBkCMspGE",
    "outputId": "c14fb6d2-c015-4b9f-ab32-c9ef3e9c86b8"
   },
   "outputs": [
    {
     "name": "stdout",
     "output_type": "stream",
     "text": [
      "16142\n"
     ]
    }
   ],
   "source": [
    "train_mid = {}\n",
    "cursor = 0\n",
    "for val in train_mid_sorted:\n",
    "    if val not in train_mid:\n",
    "        train_mid[val] = cursor\n",
    "        cursor += 1\n",
    "print(len(train_mid))"
   ]
  },
  {
   "cell_type": "code",
   "execution_count": 11,
   "metadata": {
    "colab": {
     "base_uri": "https://localhost:8080/",
     "height": 35
    },
    "colab_type": "code",
    "id": "6XYLtGIvzTsd",
    "outputId": "c8eaca82-2c1e-466e-9925-dec788da089d"
   },
   "outputs": [
    {
     "name": "stdout",
     "output_type": "stream",
     "text": [
      "16142 5905\n"
     ]
    }
   ],
   "source": [
    "train_movies_n = len(train_mid)\n",
    "train_cust_n = len(train_cid)\n",
    "print(train_movies_n, train_cust_n)"
   ]
  },
  {
   "cell_type": "code",
   "execution_count": 12,
   "metadata": {
    "colab": {
     "base_uri": "https://localhost:8080/",
     "height": 35
    },
    "colab_type": "code",
    "id": "-hfrhZhZzTln",
    "outputId": "2d01e3c8-384c-4dac-92ed-28beb8827478"
   },
   "outputs": [
    {
     "data": {
      "text/plain": [
       "(5905, 16142)"
      ]
     },
     "execution_count": 12,
     "metadata": {
      "tags": []
     },
     "output_type": "execute_result"
    }
   ],
   "source": [
    "# Make movie-by-user matrix to hold ratings\n",
    "train_ratings = np.zeros((train_cust_n, train_movies_n), np.short)\n",
    "\n",
    "for i in range(len(train_df)):\n",
    "    current = train_df.iloc[i]\n",
    "    customer_idx = train_cid.get(current[1])\n",
    "    movie_idx = train_mid.get(current[0])\n",
    "    train_ratings[customer_idx, movie_idx] = current[2]\n",
    "\n",
    "train_ratings.shape"
   ]
  },
  {
   "cell_type": "code",
   "execution_count": 0,
   "metadata": {
    "colab": {},
    "colab_type": "code",
    "id": "g8Mfj1F8zTkF"
   },
   "outputs": [],
   "source": [
    "save_obj(train_ratings, 'train_ratings_temp')\n",
    "# train_ratings = load_obj('train_ratings_temp')"
   ]
  },
  {
   "cell_type": "code",
   "execution_count": 60,
   "metadata": {
    "colab": {
     "base_uri": "https://localhost:8080/",
     "height": 35
    },
    "colab_type": "code",
    "id": "1lZdKreAoNEj",
    "outputId": "cebfef0e-f7f2-4cb8-d7b5-0834f2f16a14"
   },
   "outputs": [
    {
     "data": {
      "text/plain": [
       "(5904, 15888)"
      ]
     },
     "execution_count": 60,
     "metadata": {
      "tags": []
     },
     "output_type": "execute_result"
    }
   ],
   "source": [
    "train_ratings.shape"
   ]
  },
  {
   "cell_type": "code",
   "execution_count": 0,
   "metadata": {
    "colab": {},
    "colab_type": "code",
    "id": "fLFBnEoOtqDN"
   },
   "outputs": [],
   "source": [
    "train_normalized_mov = np.zeros(train_ratings.shape)"
   ]
  },
  {
   "cell_type": "code",
   "execution_count": 0,
   "metadata": {
    "colab": {},
    "colab_type": "code",
    "id": "-2Uvd-a8twCc"
   },
   "outputs": [],
   "source": [
    "# for i in range(train_ratings.shape[1]):\n",
    "#     rating_movie = train_ratings[:, i]\n",
    "#     train_normalized_mov[:, i] = rating_movie - np.mean(rating_movie)\n",
    "\n",
    "train_normalized_mov = train_ratings.copy()\n",
    "train_normalized_mov_t = np.transpose(train_normalized_mov)\n",
    "\n",
    "for i in range(train_normalized_mov_t.shape[0]):\n",
    "    record = train_normalized_mov_t[i]\n",
    "    nonzeros = record[np.nonzero(record)]\n",
    "    if len(nonzeros) > 0:\n",
    "        mean = np.mean(nonzeros)\n",
    "    else:\n",
    "        mean = 0\n",
    "    record[np.nonzero(record)] = record[np.nonzero(record)] - mean # type 3\n",
    "\n",
    "    train_normalized_mov_t[i] = record"
   ]
  },
  {
   "cell_type": "code",
   "execution_count": 0,
   "metadata": {
    "colab": {},
    "colab_type": "code",
    "id": "1FEQME0Qnt31"
   },
   "outputs": [],
   "source": [
    "train_normalized_mov_t = np.transpose(train_normalized_mov)"
   ]
  },
  {
   "cell_type": "markdown",
   "metadata": {
    "colab_type": "text",
    "id": "Cs-GSFxQ4U4U"
   },
   "source": [
    "CLUSTER MOVIES\n"
   ]
  },
  {
   "cell_type": "code",
   "execution_count": 0,
   "metadata": {
    "colab": {},
    "colab_type": "code",
    "id": "gmnyxdOD18BN"
   },
   "outputs": [],
   "source": [
    "train_movie_by_movie = sklearn.metrics.pairwise_distances(train_normalized_mov_t, metric='cosine', n_jobs=-1, force_all_finite=True)"
   ]
  },
  {
   "cell_type": "code",
   "execution_count": 0,
   "metadata": {
    "colab": {},
    "colab_type": "code",
    "id": "RwUOhjWG7-7J"
   },
   "outputs": [],
   "source": [
    "train_movie_by_movie = 2 - train_movie_by_movie"
   ]
  },
  {
   "cell_type": "code",
   "execution_count": 0,
   "metadata": {
    "colab": {},
    "colab_type": "code",
    "id": "_Nm0yh3c42O0"
   },
   "outputs": [],
   "source": [
    "for i in range(train_movie_by_movie.shape[0]):  # Remove self-connections\n",
    "    train_movie_by_movie[i][i] = 0"
   ]
  },
  {
   "cell_type": "code",
   "execution_count": 0,
   "metadata": {
    "colab": {},
    "colab_type": "code",
    "id": "TUooE7wc8jRd"
   },
   "outputs": [],
   "source": [
    "for i in range(train_movie_by_movie.shape[0]):   \n",
    "    array_sum = np.sum(train_movie_by_movie[i])\n",
    "    array_has_nan = np.isnan(array_sum)\n",
    "    if array_has_nan:\n",
    "        print('arr has nan:', i)"
   ]
  },
  {
   "cell_type": "code",
   "execution_count": 0,
   "metadata": {
    "colab": {},
    "colab_type": "code",
    "id": "VW-e-ypN-RnF"
   },
   "outputs": [],
   "source": [
    "c1 = train_movie_by_movie.copy()"
   ]
  },
  {
   "cell_type": "code",
   "execution_count": 0,
   "metadata": {
    "colab": {
     "base_uri": "https://localhost:8080/",
     "height": 35
    },
    "colab_type": "code",
    "id": "qJJ7dN8M9i60",
    "outputId": "60f0c30c-2e91-483c-9b73-57cbf1d39b67"
   },
   "outputs": [
    {
     "data": {
      "text/plain": [
       "numpy.float64"
      ]
     },
     "execution_count": 45,
     "metadata": {
      "tags": []
     },
     "output_type": "execute_result"
    }
   ],
   "source": [
    "type(train_movie_by_movie[0][0])"
   ]
  },
  {
   "cell_type": "code",
   "execution_count": 0,
   "metadata": {
    "colab": {
     "base_uri": "https://localhost:8080/",
     "height": 35
    },
    "colab_type": "code",
    "id": "wbw8NGqC9Xha",
    "outputId": "44f676dc-00c0-4c73-9442-738241d0273a"
   },
   "outputs": [
    {
     "data": {
      "text/plain": [
       "True"
      ]
     },
     "execution_count": 49,
     "metadata": {
      "tags": []
     },
     "output_type": "execute_result"
    }
   ],
   "source": [
    "np.isfinite(train_movie_by_movie).all()"
   ]
  },
  {
   "cell_type": "code",
   "execution_count": 0,
   "metadata": {
    "colab": {},
    "colab_type": "code",
    "id": "n-ifyrLG4X5e"
   },
   "outputs": [],
   "source": [
    "spec_clus = SpectralClustering(n_clusters=10, eigen_solver='arpack', random_state=1, \n",
    "                   n_init=5, gamma=1.0, affinity='precomputed', assign_labels='kmeans', n_jobs=-1)"
   ]
  },
  {
   "cell_type": "code",
   "execution_count": 0,
   "metadata": {
    "colab": {},
    "colab_type": "code",
    "id": "TW7wVF9C4X5h"
   },
   "outputs": [],
   "source": [
    "cluster_labels = spec_clus.fit_predict(c1)"
   ]
  },
  {
   "cell_type": "code",
   "execution_count": 0,
   "metadata": {
    "colab": {},
    "colab_type": "code",
    "id": "ZVTyMF5mnWd9"
   },
   "outputs": [],
   "source": [
    "save_obj(cluster_labels, 'cluster_labels_temp')\n",
    "# cluster_labels = load_obj('cluster_labels_final')"
   ]
  },
  {
   "cell_type": "code",
   "execution_count": 0,
   "metadata": {
    "colab": {},
    "colab_type": "code",
    "id": "2BuYP3FH4X5k"
   },
   "outputs": [],
   "source": [
    "cluster_labels_copy = cluster_labels.copy()"
   ]
  },
  {
   "cell_type": "code",
   "execution_count": 0,
   "metadata": {
    "colab": {},
    "colab_type": "code",
    "id": "v7FJttS54X5p"
   },
   "outputs": [],
   "source": [
    "label_map = defaultdict(set)\n",
    "for i, label in enumerate(cluster_labels):\n",
    "    label_map[label].add(i)"
   ]
  },
  {
   "cell_type": "code",
   "execution_count": 24,
   "metadata": {
    "colab": {
     "base_uri": "https://localhost:8080/",
     "height": 191
    },
    "colab_type": "code",
    "id": "OACaw6cL4X5r",
    "outputId": "25454426-aed4-4998-f302-0963b5ed1891"
   },
   "outputs": [
    {
     "name": "stdout",
     "output_type": "stream",
     "text": [
      "796\n",
      "7672\n",
      "1990\n",
      "1045\n",
      "749\n",
      "2350\n",
      "459\n",
      "604\n",
      "335\n",
      "142\n"
     ]
    }
   ],
   "source": [
    "for label in label_map:\n",
    "    print(len(label_map[label]))"
   ]
  },
  {
   "cell_type": "code",
   "execution_count": 0,
   "metadata": {
    "colab": {},
    "colab_type": "code",
    "id": "4YdQODGI4X5t"
   },
   "outputs": [],
   "source": [
    "# save_obj(label_map, \"label_map_mbym\")\n",
    "label_map = load_obj('label_map_mbym')"
   ]
  },
  {
   "cell_type": "code",
   "execution_count": 0,
   "metadata": {
    "colab": {
     "base_uri": "https://localhost:8080/",
     "height": 191
    },
    "colab_type": "code",
    "id": "wCfNsp-x4X5v",
    "outputId": "48fd6bcd-cddb-4d56-ef79-303baa8eb047"
   },
   "outputs": [
    {
     "name": "stdout",
     "output_type": "stream",
     "text": [
      "4\n",
      "5\n",
      "6\n",
      "9\n",
      "0\n",
      "7\n",
      "1\n",
      "8\n",
      "3\n",
      "2\n"
     ]
    }
   ],
   "source": [
    " for label in label_map:\n",
    "    print(label)"
   ]
  },
  {
   "cell_type": "code",
   "execution_count": 0,
   "metadata": {
    "colab": {
     "base_uri": "https://localhost:8080/",
     "height": 35
    },
    "colab_type": "code",
    "id": "gJc-7p2Dkc3t",
    "outputId": "09c93b44-f14b-4f90-bd3b-6fb8e797c313"
   },
   "outputs": [
    {
     "data": {
      "text/plain": [
       "{4668, 4827, 6834, 8803, 14024, 14958}"
      ]
     },
     "execution_count": 50,
     "metadata": {
      "tags": []
     },
     "output_type": "execute_result"
    }
   ],
   "source": [
    "label_map[4]"
   ]
  },
  {
   "cell_type": "code",
   "execution_count": 0,
   "metadata": {
    "colab": {
     "base_uri": "https://localhost:8080/",
     "height": 35
    },
    "colab_type": "code",
    "id": "A-m9XBCxLtvP",
    "outputId": "af1876df-1f83-4167-fcc8-a9ad870a9e3b"
   },
   "outputs": [
    {
     "name": "stdout",
     "output_type": "stream",
     "text": [
      "-0.0005541861454665398\n"
     ]
    }
   ],
   "source": [
    "cosine_similarity = 1 - scipy.spatial.distance.cosine(train_normalized_mov_t[0], train_normalized_mov_t[1])\n",
    "print(cosine_similarity)"
   ]
  },
  {
   "cell_type": "code",
   "execution_count": 0,
   "metadata": {
    "colab": {},
    "colab_type": "code",
    "id": "UUSEglTlNfZl"
   },
   "outputs": [],
   "source": [
    "validate_df = test_df"
   ]
  },
  {
   "cell_type": "code",
   "execution_count": 29,
   "metadata": {
    "colab": {
     "base_uri": "https://localhost:8080/",
     "height": 451
    },
    "colab_type": "code",
    "id": "6rgPk5DqcAbY",
    "outputId": "6360509f-8d4f-4d40-993d-4041c7c400d7"
   },
   "outputs": [
    {
     "name": "stdout",
     "output_type": "stream",
     "text": [
      "10000  records done\n",
      "50000  records done\n",
      "100000  records done\n",
      "20000  records done\n",
      "90000  records done\n",
      "80000  records done\n",
      "40000  records done\n",
      "30000  records done\n",
      "60000  records done\n",
      "70000  records done\n",
      "120000  records done\n",
      "130000  records done\n",
      "110000  records done\n",
      "140000  records done\n",
      "180000  records done\n",
      "150000  records done\n",
      "190000  records done\n",
      "160000  records done\n",
      "170000  records done\n",
      "200000  records done\n",
      "210000  records done\n",
      "230000  records done\n",
      "220000  records done\n",
      "250000  records done\n",
      "240000  records done\n"
     ]
    }
   ],
   "source": [
    "size = validate_df.shape[0]\n",
    "block_size = 10000\n",
    "\n",
    "result = np.ctypeslib.as_ctypes(np.zeros((size, 3)))\n",
    "shared_array = sharedctypes.RawArray(result._type_, result)\n",
    "\n",
    "def fill_per_window(args):\n",
    "    window_x, _ = args\n",
    "    tmp = np.ctypeslib.as_array(shared_array)\n",
    "\n",
    "    for i in range(window_x, window_x + block_size):\n",
    "        record = validate_df.iloc[i]\n",
    "        cid = train_cid.get(record[1])\n",
    "        mid = train_mid.get(record[0])\n",
    "\n",
    "        if mid is not None:\n",
    "            if cid is not None:\n",
    "                cluster_id = cluster_labels[mid]\n",
    "                neighbours = []\n",
    "                cluster_set = label_map.get(cluster_id)\n",
    "                for j in cluster_set:\n",
    "                    if j != mid and train_ratings[cid][j] != 0:\n",
    "                        similarity = train_movie_by_movie[j][mid]\n",
    "                        neighbours.append([j, similarity, train_ratings[cid][j]])\n",
    "\n",
    "                # try:    \n",
    "                if len(neighbours) > 10:    \n",
    "                    neighbours.sort(key = lambda x: x[1])\n",
    "                    l = len(neighbours)\n",
    "                    nearest_neighbours = np.array(neighbours[l-10:])\n",
    "                    nn_ratings = nearest_neighbours[:, 2]\n",
    "                    nn_weight = nearest_neighbours[:, 1]\n",
    "                    rating_prediction = np.average(nn_ratings, weights=nn_weight)\n",
    "                else:\n",
    "                    if len(neighbours) > 1:\n",
    "                        movie_r = np.array(neighbours)[:, 2]\n",
    "                        nonzeros = movie_r[np.nonzero(movie_r)]\n",
    "                        rating_prediction = np.mean(nonzeros)\n",
    "                    else:\n",
    "                        movie_r = train_ratings[:, mid]\n",
    "                        nonzeros = movie_r[np.nonzero(movie_r)]\n",
    "                        rating_prediction = np.mean(nonzeros)\n",
    "                # except:\n",
    "                #     print(record, neighbours)\n",
    "\n",
    "            else:\n",
    "                movie_r = train_ratings[:, mid]\n",
    "                nonzeros = movie_r[np.nonzero(movie_r)]\n",
    "                rating_prediction = np.mean(nonzeros)\n",
    "        else:\n",
    "            if cid is not None:\n",
    "                movie_r = train_ratings[cid]\n",
    "                nonzeros = movie_r[np.nonzero(movie_r)]\n",
    "                rating_prediction = np.mean(nonzeros)\n",
    "            else:\n",
    "                rating_prediction = 3\n",
    "\n",
    "        # pred_record = [record[0], record[1], rating_prediction, round(rating_prediction), record[2]]\n",
    "        # m_preds.append(pred_record)\n",
    "\n",
    "        if rating_prediction <= 0.5:\n",
    "            rating_prediction = 1\n",
    "        if rating_prediction > 5.5:\n",
    "            rating_prediction = 5 \n",
    "\n",
    "        tmp[i][0] = record[0]\n",
    "        tmp[i][1] = record[1]\n",
    "        tmp[i][2] = rating_prediction\n",
    "        # tmp[i][3] = record[2]\n",
    "\n",
    "    print(window_x + block_size , ' records done')\n",
    "\n",
    "\n",
    "window_idxs = [(i, 0) for i in range(0, size, block_size)]\n",
    "\n",
    "p = Pool(10)\n",
    "res = p.map(fill_per_window, window_idxs)\n",
    "result = np.ctypeslib.as_array(shared_array)"
   ]
  },
  {
   "cell_type": "code",
   "execution_count": 0,
   "metadata": {
    "colab": {},
    "colab_type": "code",
    "id": "8qtUckeNTx3I"
   },
   "outputs": [],
   "source": [
    "np.savetxt(base_path + 'pred_final.txt', np.around(result[:, 2]))"
   ]
  },
  {
   "cell_type": "code",
   "execution_count": 30,
   "metadata": {
    "colab": {
     "base_uri": "https://localhost:8080/",
     "height": 201
    },
    "colab_type": "code",
    "id": "sEH1QK4d4Nwy",
    "outputId": "84c6112c-1840-41c6-cb57-c61d051059a9"
   },
   "outputs": [
    {
     "ename": "TypeError",
     "evalue": "ignored",
     "output_type": "error",
     "traceback": [
      "\u001b[0;31m---------------------------------------------------------------------------\u001b[0m",
      "\u001b[0;31mTypeError\u001b[0m                                 Traceback (most recent call last)",
      "\u001b[0;32m<ipython-input-30-866de3baacd0>\u001b[0m in \u001b[0;36m<module>\u001b[0;34m()\u001b[0m\n\u001b[1;32m      1\u001b[0m \u001b[0mA\u001b[0m \u001b[0;34m=\u001b[0m \u001b[0mnp\u001b[0m\u001b[0;34m.\u001b[0m\u001b[0maround\u001b[0m\u001b[0;34m(\u001b[0m\u001b[0mresult\u001b[0m\u001b[0;34m[\u001b[0m\u001b[0;34m:\u001b[0m\u001b[0;34m,\u001b[0m \u001b[0;36m2\u001b[0m\u001b[0;34m]\u001b[0m\u001b[0;34m)\u001b[0m\u001b[0;34m\u001b[0m\u001b[0;34m\u001b[0m\u001b[0m\n\u001b[1;32m      2\u001b[0m \u001b[0mB\u001b[0m \u001b[0;34m=\u001b[0m \u001b[0mnp\u001b[0m\u001b[0;34m.\u001b[0m\u001b[0marray\u001b[0m\u001b[0;34m(\u001b[0m\u001b[0mvalidate_df\u001b[0m\u001b[0;34m[\u001b[0m\u001b[0;34m'rating'\u001b[0m\u001b[0;34m]\u001b[0m\u001b[0;34m)\u001b[0m  \u001b[0;31m#result[:, 3]\u001b[0m\u001b[0;34m\u001b[0m\u001b[0;34m\u001b[0m\u001b[0m\n\u001b[0;32m----> 3\u001b[0;31m \u001b[0mmse\u001b[0m \u001b[0;34m=\u001b[0m \u001b[0;34m(\u001b[0m\u001b[0;34m(\u001b[0m\u001b[0mA\u001b[0m \u001b[0;34m-\u001b[0m \u001b[0mB\u001b[0m\u001b[0;34m)\u001b[0m\u001b[0;34m**\u001b[0m\u001b[0;36m2\u001b[0m\u001b[0;34m)\u001b[0m\u001b[0;34m.\u001b[0m\u001b[0mmean\u001b[0m\u001b[0;34m(\u001b[0m\u001b[0maxis\u001b[0m\u001b[0;34m=\u001b[0m\u001b[0;32mNone\u001b[0m\u001b[0;34m)\u001b[0m\u001b[0;34m\u001b[0m\u001b[0;34m\u001b[0m\u001b[0m\n\u001b[0m",
      "\u001b[0;31mTypeError\u001b[0m: unsupported operand type(s) for -: 'float' and 'str'"
     ]
    }
   ],
   "source": [
    "# preds_array = np.array(m_preds)\n",
    "A = np.around(result[:, 2])\n",
    "B = np.array(validate_df['rating'])  #result[:, 3]\n",
    "mse = ((A - B)**2).mean(axis=None)"
   ]
  },
  {
   "cell_type": "code",
   "execution_count": 33,
   "metadata": {
    "colab": {
     "base_uri": "https://localhost:8080/",
     "height": 35
    },
    "colab_type": "code",
    "id": "hUZ_IYNR4Nrv",
    "outputId": "3ea79b03-1a6c-4730-969d-de7f56a2fa5f"
   },
   "outputs": [
    {
     "name": "stdout",
     "output_type": "stream",
     "text": [
      "0.91953 0.9589212689267039\n"
     ]
    }
   ],
   "source": [
    "rmse = np.sqrt(mse)\n",
    "print(mse, rmse)"
   ]
  },
  {
   "cell_type": "code",
   "execution_count": 34,
   "metadata": {
    "colab": {
     "base_uri": "https://localhost:8080/",
     "height": 35
    },
    "colab_type": "code",
    "id": "Er2y3xQXyVyJ",
    "outputId": "7d15ea99-255c-4d73-d26e-673c2e906f8a"
   },
   "outputs": [
    {
     "data": {
      "text/plain": [
       "45058"
      ]
     },
     "execution_count": 34,
     "metadata": {
      "tags": []
     },
     "output_type": "execute_result"
    }
   ],
   "source": [
    "count = 0\n",
    "for i in range(len(result)):\n",
    "    # record = result[i]\n",
    "    if A[i] == B[i]:\n",
    "        count += 1\n",
    "count"
   ]
  },
  {
   "cell_type": "code",
   "execution_count": 0,
   "metadata": {
    "colab": {},
    "colab_type": "code",
    "id": "4qQrArYdeMKV"
   },
   "outputs": [],
   "source": [
    "d = {}\n",
    "\n",
    "for val in A:\n",
    "    if val in d:\n",
    "        d[val] += 1\n",
    "    else:\n",
    "        d[val] = 1"
   ]
  },
  {
   "cell_type": "code",
   "execution_count": 36,
   "metadata": {
    "colab": {
     "base_uri": "https://localhost:8080/",
     "height": 35
    },
    "colab_type": "code",
    "id": "QFnmAJAJeMA_",
    "outputId": "455d2c07-a2a0-4dbf-ef69-38c7637cb5e8"
   },
   "outputs": [
    {
     "data": {
      "text/plain": [
       "{1.0: 408, 2.0: 3871, 3.0: 32066, 4.0: 53174, 5.0: 10481}"
      ]
     },
     "execution_count": 36,
     "metadata": {
      "tags": []
     },
     "output_type": "execute_result"
    }
   ],
   "source": [
    "d"
   ]
  },
  {
   "cell_type": "code",
   "execution_count": 0,
   "metadata": {
    "colab": {},
    "colab_type": "code",
    "id": "nLSMjFsBeL2w"
   },
   "outputs": [],
   "source": [
    "gtd = {}\n",
    "\n",
    "for val in B:\n",
    "    if val in gtd:\n",
    "        gtd[val] += 1\n",
    "    else:\n",
    "        gtd[val] = 1"
   ]
  },
  {
   "cell_type": "code",
   "execution_count": 39,
   "metadata": {
    "colab": {
     "base_uri": "https://localhost:8080/",
     "height": 35
    },
    "colab_type": "code",
    "id": "9rUuLYXqeU9s",
    "outputId": "c86d1000-05a6-4cde-bd73-150cb476e31b"
   },
   "outputs": [
    {
     "data": {
      "text/plain": [
       "{1: 4524, 2: 9800, 3: 28433, 4: 33528, 5: 23715}"
      ]
     },
     "execution_count": 39,
     "metadata": {
      "tags": []
     },
     "output_type": "execute_result"
    }
   ],
   "source": [
    "gtd"
   ]
  },
  {
   "cell_type": "markdown",
   "metadata": {
    "colab_type": "text",
    "id": "AwiHJBxCRWly"
   },
   "source": [
    "though we take rounded integer of the predicted rating... for the purpose of recommending movies.. i think its useful to have the fractions"
   ]
  },
  {
   "cell_type": "markdown",
   "metadata": {
    "colab_type": "text",
    "id": "zwSurl0K4OgT"
   },
   "source": [
    "CLUSTER USERS"
   ]
  },
  {
   "cell_type": "code",
   "execution_count": 0,
   "metadata": {
    "colab": {},
    "colab_type": "code",
    "id": "bUBzleg5gn51"
   },
   "outputs": [],
   "source": [
    "train_normalized_cust = np.zeros(train_ratings.shape)"
   ]
  },
  {
   "cell_type": "code",
   "execution_count": 0,
   "metadata": {
    "colab": {},
    "colab_type": "code",
    "id": "m0hRVn0-gn3F"
   },
   "outputs": [],
   "source": [
    "# for i in range(train_ratings.shape[0]):\n",
    "#     rating_movie = train_ratings[i]\n",
    "#     train_normalized_cust[i] = rating_movie - np.mean(rating_movie)\n",
    "\n",
    "train_normalized_cust = train_ratings.copy()\n",
    "\n",
    "for i in range(train_normalized_cust.shape[0]):\n",
    "    record = train_normalized_cust[i]\n",
    "    nonzeros = record[np.nonzero(record)]\n",
    "    if len(nonzeros) > 0:\n",
    "        mean = np.mean(nonzeros)\n",
    "    else:\n",
    "        mean = 0\n",
    "    record[np.nonzero(record)] = record[np.nonzero(record)] - mean # type 3\n",
    "\n",
    "    train_normalized_cust[i] = record"
   ]
  },
  {
   "cell_type": "code",
   "execution_count": 0,
   "metadata": {
    "colab": {},
    "colab_type": "code",
    "id": "e0-OE_zK0L44"
   },
   "outputs": [],
   "source": [
    "train_cust_by_cust = np.zeros((train_cust_n, train_cust_n))"
   ]
  },
  {
   "cell_type": "code",
   "execution_count": 0,
   "metadata": {
    "colab": {},
    "colab_type": "code",
    "id": "cpN0L_6Ayyjc"
   },
   "outputs": [],
   "source": [
    "train_cust_by_cust = sklearn.metrics.pairwise_distances(train_normalized_cust, metric='cosine', n_jobs=-1, force_all_finite=True)"
   ]
  },
  {
   "cell_type": "code",
   "execution_count": 0,
   "metadata": {
    "colab": {},
    "colab_type": "code",
    "id": "ifboPcTpyyjg"
   },
   "outputs": [],
   "source": [
    "train_c_c = train_cust_by_cust.copy()\n",
    "train_cust_by_cust = 2 - train_cust_by_cust"
   ]
  },
  {
   "cell_type": "code",
   "execution_count": 0,
   "metadata": {
    "colab": {},
    "colab_type": "code",
    "id": "GZnP4Anbyyji"
   },
   "outputs": [],
   "source": [
    "for i in range(train_cust_by_cust.shape[0]):  # Remove self-connections\n",
    "    train_cust_by_cust[i][i] = 0"
   ]
  },
  {
   "cell_type": "code",
   "execution_count": 0,
   "metadata": {
    "colab": {},
    "colab_type": "code",
    "id": "GdERufXNgnuV"
   },
   "outputs": [],
   "source": [
    "save_obj(train_cust_by_cust, 'train_cust_by_cust')\n",
    "# cust_by_cust = load_obj('cust_by_cust')"
   ]
  },
  {
   "cell_type": "code",
   "execution_count": 0,
   "metadata": {
    "colab": {},
    "colab_type": "code",
    "id": "Wwt1_ttzKbXq"
   },
   "outputs": [],
   "source": [
    "c2 = train_cust_by_cust.copy()"
   ]
  },
  {
   "cell_type": "code",
   "execution_count": 0,
   "metadata": {
    "colab": {},
    "colab_type": "code",
    "id": "e7Jo6aLppVRR"
   },
   "outputs": [],
   "source": [
    "save_obj(c2, 'c2_temp')"
   ]
  },
  {
   "cell_type": "code",
   "execution_count": 0,
   "metadata": {
    "colab": {},
    "colab_type": "code",
    "id": "WP5gEkFwK-F_"
   },
   "outputs": [],
   "source": [
    "spec_clus = SpectralClustering(n_clusters=15, eigen_solver='arpack', random_state=2, \n",
    "                   n_init=10, gamma=1.0, affinity='precomputed', assign_labels='kmeans', n_jobs=-1)"
   ]
  },
  {
   "cell_type": "code",
   "execution_count": 0,
   "metadata": {
    "colab": {},
    "colab_type": "code",
    "id": "TN1cXyL0K-Al"
   },
   "outputs": [],
   "source": [
    "cid_cluster_labels = spec_clus.fit_predict(c2)"
   ]
  },
  {
   "cell_type": "code",
   "execution_count": 0,
   "metadata": {
    "colab": {},
    "colab_type": "code",
    "id": "z7WKiBAU2Oqp"
   },
   "outputs": [],
   "source": [
    "cid_label_dict = defaultdict(set)\n",
    "for i, label in enumerate(cid_cluster_labels):\n",
    "    cid_label_dict[label].add(i)"
   ]
  },
  {
   "cell_type": "code",
   "execution_count": 38,
   "metadata": {
    "colab": {
     "base_uri": "https://localhost:8080/",
     "height": 277
    },
    "colab_type": "code",
    "id": "7cd3_k9o2OoH",
    "outputId": "6bfe8d80-376d-4fd2-ad21-bc8aff881093"
   },
   "outputs": [
    {
     "name": "stdout",
     "output_type": "stream",
     "text": [
      "602\n",
      "785\n",
      "2132\n",
      "462\n",
      "135\n",
      "160\n",
      "127\n",
      "579\n",
      "145\n",
      "91\n",
      "126\n",
      "163\n",
      "201\n",
      "102\n",
      "92\n"
     ]
    }
   ],
   "source": [
    "for label in cid_label_dict:\n",
    "    print(len(cid_label_dict[label]))"
   ]
  },
  {
   "cell_type": "code",
   "execution_count": 0,
   "metadata": {
    "colab": {
     "base_uri": "https://localhost:8080/",
     "height": 195
    },
    "colab_type": "code",
    "id": "4JAdduMy2OhN",
    "outputId": "dd625825-64c3-4c2b-e898-9ec981acc0a9"
   },
   "outputs": [
    {
     "name": "stdout",
     "output_type": "stream",
     "text": [
      "6\n",
      "9\n",
      "0\n",
      "4\n",
      "7\n",
      "3\n",
      "5\n",
      "2\n",
      "8\n",
      "1\n"
     ]
    }
   ],
   "source": [
    " for label in label_dict:\n",
    "    print(label)"
   ]
  },
  {
   "cell_type": "code",
   "execution_count": 39,
   "metadata": {
    "colab": {
     "base_uri": "https://localhost:8080/",
     "height": 191
    },
    "colab_type": "code",
    "id": "er7DQeVq2KqV",
    "outputId": "1b453f72-2691-42da-d828-2eeacb3eb452"
   },
   "outputs": [
    {
     "name": "stdout",
     "output_type": "stream",
     "text": [
      "20000  records done\n",
      "50000  records done\n",
      "100000  records done\n",
      "60000  records done\n",
      "40000  records done\n",
      "80000  records done\n",
      "90000  records done\n",
      "30000  records done\n",
      "10000  records done\n",
      "70000  records done\n"
     ]
    }
   ],
   "source": [
    "size = validate_df.shape[0]\n",
    "block_size = 10000\n",
    "\n",
    "result2 = np.ctypeslib.as_ctypes(np.zeros((size, 3)))\n",
    "shared_array2 = sharedctypes.RawArray(result2._type_, result2)\n",
    "\n",
    "def fill_per_window_2(args):\n",
    "    window_x, _ = args\n",
    "    tmp2 = np.ctypeslib.as_array(shared_array2)\n",
    "\n",
    "    for i in range(window_x, window_x + block_size):\n",
    "        record = validate_df.iloc[i]\n",
    "        cid = train_cid.get(record[1])\n",
    "        mid = train_mid.get(record[0])\n",
    "\n",
    "        if mid is not None:\n",
    "            if cid is not None:\n",
    "                mid_cluster_id = cluster_labels[mid]\n",
    "                cid_cluster_id = cid_cluster_labels[cid]\n",
    "                neighbours_mid, neighbours_cid = [], []\n",
    "                cluster_set = label_map.get(mid_cluster_id)\n",
    "                cid_cluster_set = cid_label_dict.get(cid_cluster_id)\n",
    "                for j in cluster_set:\n",
    "                    if j != mid and train_ratings[cid][j] != 0:\n",
    "                        similarity = train_movie_by_movie[j][mid]\n",
    "                        neighbours_mid.append([j, similarity, train_ratings[cid][j]])\n",
    "                \n",
    "                for k in cid_cluster_set:\n",
    "                    if k != cid and train_ratings[k][mid] != 0:\n",
    "                        similarity = c2[cid][k]\n",
    "                        neighbours_cid.append([k, similarity, train_ratings[k][mid]])\n",
    "\n",
    "                # try:    \n",
    "                if len(neighbours_mid) > 10 and len(neighbours_cid) > 10:    \n",
    "                    neighbours_mid.sort(key = lambda x: x[1], reverse = True)\n",
    "                    neighbours_cid.sort(key = lambda x: x[1], reverse = True)\n",
    "                    nearest_neighbours_mid = np.array(neighbours_mid[:10])\n",
    "                    nearest_neighbours_cid = np.array(neighbours_cid[:10])\n",
    "                    nn_ratings = np.array(nearest_neighbours_mid[:, 2]) \n",
    "                    nn_ratings2 = (np.array(nearest_neighbours_cid[:, 2]))\n",
    "                    nn_weight = np.array(nearest_neighbours_mid[:, 1])\n",
    "                    nn_weight2 = np.array(nearest_neighbours_cid[:, 1])\n",
    "                    rating_prediction1 = np.average(nn_ratings, weights=nn_weight)\n",
    "                    rating_prediction2 = np.average(nn_ratings2, weights=nn_weight2)\n",
    "                    rating_prediction = (rating_prediction1 + rating_prediction1) / 2\n",
    "                else:\n",
    "                    if len(neighbours_mid) > 1 and len(neighbours_cid) > 1:\n",
    "                        nearest_neighbours = np.append(np.array(neighbours_mid)[:, 2], (np.array(neighbours_cid)[:, 2]), axis=0)\n",
    "                        # nearest_neighbours_cid = \n",
    "                        nonzeros = nearest_neighbours[np.nonzero(nearest_neighbours)]\n",
    "                        rating_prediction = np.mean(nonzeros)\n",
    "                    else:\n",
    "                        movie_r = train_ratings[:, mid]\n",
    "                        nonzeros = movie_r[np.nonzero(movie_r)]\n",
    "                        rating_prediction = np.mean(nonzeros)\n",
    "                # except:\n",
    "                #     print(record, neighbours)\n",
    "\n",
    "            else:\n",
    "                movie_r = train_ratings[:, mid]\n",
    "                nonzeros = movie_r[np.nonzero(movie_r)]\n",
    "                rating_prediction = np.mean(nonzeros)\n",
    "        else:\n",
    "            if cid is not None:\n",
    "                movie_r = train_ratings[cid]\n",
    "                nonzeros = movie_r[np.nonzero(movie_r)]\n",
    "                rating_prediction = np.mean(nonzeros)\n",
    "            else:\n",
    "                rating_prediction = 3\n",
    "\n",
    "        # pred_record = [record[0], record[1], rating_prediction, round(rating_prediction), record[2]]\n",
    "        # m_preds.append(pred_record)\n",
    "\n",
    "        tmp2[i][0] = record[0]\n",
    "        tmp2[i][1] = record[1]\n",
    "        tmp2[i][2] = rating_prediction\n",
    "        # tmp[i][3] = record[2]\n",
    "\n",
    "    print(window_x + block_size , ' records done')\n",
    "\n",
    "\n",
    "window_idxs = [(i, 0) for i in range(0, size, block_size)]\n",
    "\n",
    "p = Pool(10)\n",
    "res = p.map(fill_per_window_2, window_idxs)\n",
    "result2 = np.ctypeslib.as_array(shared_array2)"
   ]
  },
  {
   "cell_type": "code",
   "execution_count": 40,
   "metadata": {
    "colab": {
     "base_uri": "https://localhost:8080/",
     "height": 35
    },
    "colab_type": "code",
    "id": "nQYCZbkSA4Ae",
    "outputId": "f71a7135-4d68-473b-9d77-903383e8a427"
   },
   "outputs": [
    {
     "data": {
      "text/plain": [
       "100000"
      ]
     },
     "execution_count": 40,
     "metadata": {
      "tags": []
     },
     "output_type": "execute_result"
    }
   ],
   "source": [
    "len(result2)"
   ]
  },
  {
   "cell_type": "code",
   "execution_count": 0,
   "metadata": {
    "colab": {},
    "colab_type": "code",
    "id": "MOKu_JMTA4An"
   },
   "outputs": [],
   "source": [
    "# preds_array = np.array(m_preds)\n",
    "A = np.around(result2[:, 2])\n",
    "B = np.array(validate_df['rating']) # result[:, 3]\n",
    "mse = ((A - B)**2).mean(axis=None)"
   ]
  },
  {
   "cell_type": "code",
   "execution_count": 42,
   "metadata": {
    "colab": {
     "base_uri": "https://localhost:8080/",
     "height": 35
    },
    "colab_type": "code",
    "id": "621bl2yTA4Ap",
    "outputId": "2289eaa7-ce81-496e-e871-50db9e17dfe2"
   },
   "outputs": [
    {
     "name": "stdout",
     "output_type": "stream",
     "text": [
      "0.99275 0.996368405761644\n"
     ]
    }
   ],
   "source": [
    "rmse = np.sqrt(mse)\n",
    "print(mse, rmse)"
   ]
  },
  {
   "cell_type": "code",
   "execution_count": 26,
   "metadata": {
    "colab": {
     "base_uri": "https://localhost:8080/",
     "height": 110
    },
    "colab_type": "code",
    "id": "Tmfr7obUzTpu",
    "outputId": "77d19c0a-1fb9-4c71-b83c-67e2c6a4e2a8"
   },
   "outputs": [
    {
     "data": {
      "text/html": [
       "<div>\n",
       "<style scoped>\n",
       "    .dataframe tbody tr th:only-of-type {\n",
       "        vertical-align: middle;\n",
       "    }\n",
       "\n",
       "    .dataframe tbody tr th {\n",
       "        vertical-align: top;\n",
       "    }\n",
       "\n",
       "    .dataframe thead th {\n",
       "        text-align: right;\n",
       "    }\n",
       "</style>\n",
       "<table border=\"1\" class=\"dataframe\">\n",
       "  <thead>\n",
       "    <tr style=\"text-align: right;\">\n",
       "      <th></th>\n",
       "      <th>movie-id</th>\n",
       "      <th>customer-id</th>\n",
       "      <th>rating</th>\n",
       "      <th>date</th>\n",
       "    </tr>\n",
       "  </thead>\n",
       "  <tbody>\n",
       "    <tr>\n",
       "      <th>0</th>\n",
       "      <td>11089</td>\n",
       "      <td>11765</td>\n",
       "      <td>?</td>\n",
       "      <td>2005-06-03</td>\n",
       "    </tr>\n",
       "    <tr>\n",
       "      <th>1</th>\n",
       "      <td>11279</td>\n",
       "      <td>5858</td>\n",
       "      <td>?</td>\n",
       "      <td>2005-05-07</td>\n",
       "    </tr>\n",
       "  </tbody>\n",
       "</table>\n",
       "</div>"
      ],
      "text/plain": [
       "   movie-id  customer-id rating        date\n",
       "0     11089        11765      ?  2005-06-03\n",
       "1     11279         5858      ?  2005-05-07"
      ]
     },
     "execution_count": 26,
     "metadata": {
      "tags": []
     },
     "output_type": "execute_result"
    }
   ],
   "source": [
    "test_df = pd.read_csv( base_path + \"test.csv\")\n",
    "test_df.head(2)"
   ]
  },
  {
   "cell_type": "code",
   "execution_count": 27,
   "metadata": {
    "colab": {
     "base_uri": "https://localhost:8080/",
     "height": 35
    },
    "colab_type": "code",
    "id": "wao8ikeYNVHG",
    "outputId": "5b5f379d-c431-48cc-aa48-21d3da627336"
   },
   "outputs": [
    {
     "data": {
      "text/plain": [
       "(250000, 4)"
      ]
     },
     "execution_count": 27,
     "metadata": {
      "tags": []
     },
     "output_type": "execute_result"
    }
   ],
   "source": [
    "test_df.shape"
   ]
  },
  {
   "cell_type": "markdown",
   "metadata": {
    "colab_type": "text",
    "id": "Mu_Gy0Nr1Daq"
   },
   "source": [
    "EDA"
   ]
  },
  {
   "cell_type": "code",
   "execution_count": 0,
   "metadata": {
    "colab": {},
    "colab_type": "code",
    "id": "aogoAhYVE4mS"
   },
   "outputs": [],
   "source": [
    "train_cid_map = defaultdict(list)\n",
    "# movie_ratings = []\n",
    "for i in range(len(train_df)):\n",
    "    current = train_df.iloc[i]\n",
    "    cid = current[1]\n",
    "    rating = current[2]\n",
    "    if cid not in cid_map:\n",
    "        train_cid_map[cid] = [[rating]]\n",
    "    else:\n",
    "        train_cid_map[cid][0].append(rating)"
   ]
  },
  {
   "cell_type": "code",
   "execution_count": 0,
   "metadata": {
    "colab": {
     "base_uri": "https://localhost:8080/",
     "height": 35
    },
    "colab_type": "code",
    "id": "yO77Q0dPLMAY",
    "outputId": "6c112a1e-8eb8-46ce-b1d4-fee41f224474"
   },
   "outputs": [
    {
     "data": {
      "text/plain": [
       "False"
      ]
     },
     "execution_count": 7,
     "metadata": {
      "tags": []
     },
     "output_type": "execute_result"
    }
   ],
   "source": [
    "0 in cid_map"
   ]
  },
  {
   "cell_type": "code",
   "execution_count": 0,
   "metadata": {
    "colab": {},
    "colab_type": "code",
    "id": "On5G8C82KW5m"
   },
   "outputs": [],
   "source": [
    "cust_dict = cid_map.copy()"
   ]
  },
  {
   "cell_type": "code",
   "execution_count": 0,
   "metadata": {
    "colab": {},
    "colab_type": "code",
    "id": "5eC-bjNAZPwB"
   },
   "outputs": [],
   "source": [
    "for cid in cust_dict:\n",
    "    no_ratings = len(cust_dict[cid][0])\n",
    "    mean_rating = np.mean(np.array(cust_dict[cid][0]))\n",
    "    std_dev = np.std(np.array(cust_dict[cid][0]))\n",
    "    cust_dict[cid][0] = mean_rating\n",
    "    cust_dict[cid].append(std_dev)\n",
    "    cust_dict[cid].append(no_ratings)"
   ]
  },
  {
   "cell_type": "code",
   "execution_count": 0,
   "metadata": {
    "colab": {
     "base_uri": "https://localhost:8080/",
     "height": 35
    },
    "colab_type": "code",
    "id": "109RC3JRVof-",
    "outputId": "82bec47f-532a-4d59-c305-12cd9c549c3f"
   },
   "outputs": [
    {
     "data": {
      "text/plain": [
       "5905"
      ]
     },
     "execution_count": 93,
     "metadata": {
      "tags": []
     },
     "output_type": "execute_result"
    }
   ],
   "source": [
    "len(cid_map)"
   ]
  },
  {
   "cell_type": "code",
   "execution_count": 0,
   "metadata": {
    "colab": {},
    "colab_type": "code",
    "id": "TuhFigm9TvKz"
   },
   "outputs": [],
   "source": [
    "x, y, z = [], [], []\n",
    "for i, cid in enumerate(cust_dict):\n",
    "    x.append(cust_dict[cid][0])\n",
    "    y.append(cust_dict[cid][1])\n",
    "    z.append(cust_dict[cid][2])"
   ]
  },
  {
   "cell_type": "code",
   "execution_count": 0,
   "metadata": {
    "colab": {
     "base_uri": "https://localhost:8080/",
     "height": 248
    },
    "colab_type": "code",
    "id": "m6ca-ZK6UFJW",
    "outputId": "04baafde-766d-476a-e136-651e0931dbf5"
   },
   "outputs": [
    {
     "data": {
      "image/png": "[encoded data removed]",
      "text/plain": [
       "<Figure size 432x288 with 1 Axes>"
      ]
     },
     "metadata": {
      "needs_background": "light",
      "tags": []
     },
     "output_type": "display_data"
    }
   ],
   "source": [
    "fig = plt.figure()\n",
    "ax = fig.add_subplot(111, projection='3d')\n",
    "ax.scatter(x, y, z)\n",
    "plt.show()"
   ]
  },
  {
   "cell_type": "code",
   "execution_count": 0,
   "metadata": {
    "colab": {
     "base_uri": "https://localhost:8080/",
     "height": 283
    },
    "colab_type": "code",
    "id": "3DeyUbU_Qh9k",
    "outputId": "cbee9b9e-4cae-4f6b-f4db-7897f31dabf2"
   },
   "outputs": [
    {
     "data": {
      "text/plain": [
       "<matplotlib.collections.PathCollection at 0x7f7691172f28>"
      ]
     },
     "execution_count": 16,
     "metadata": {
      "tags": []
     },
     "output_type": "execute_result"
    },
    {
     "data": {
      "image/png": "[encoded data removed]",
      "text/plain": [
       "<Figure size 432x288 with 1 Axes>"
      ]
     },
     "metadata": {
      "needs_background": "light",
      "tags": []
     },
     "output_type": "display_data"
    }
   ],
   "source": [
    "plt.scatter(x,y)"
   ]
  },
  {
   "cell_type": "code",
   "execution_count": 0,
   "metadata": {
    "colab": {
     "base_uri": "https://localhost:8080/",
     "height": 283
    },
    "colab_type": "code",
    "id": "nA_sLMHWQh5w",
    "outputId": "de182d7e-f7a9-4025-f799-7e03bdd38ab4"
   },
   "outputs": [
    {
     "data": {
      "text/plain": [
       "<matplotlib.collections.PathCollection at 0x7f7690701a20>"
      ]
     },
     "execution_count": 29,
     "metadata": {
      "tags": []
     },
     "output_type": "execute_result"
    },
    {
     "data": {
      "image/png": "[encoded data removed]",
      "text/plain": [
       "<Figure size 432x288 with 1 Axes>"
      ]
     },
     "metadata": {
      "needs_background": "light",
      "tags": []
     },
     "output_type": "display_data"
    }
   ],
   "source": [
    "plt.scatter(x,z)"
   ]
  },
  {
   "cell_type": "code",
   "execution_count": 0,
   "metadata": {
    "colab": {},
    "colab_type": "code",
    "id": "FsK4jB2eQhw3"
   },
   "outputs": [],
   "source": [
    "mid_map = defaultdict(list)\n",
    "# movie_ratings = []\n",
    "for i in range(len(raw_df)):\n",
    "    current = raw_df.iloc[i]\n",
    "    mid = current[0]\n",
    "    rating = current[2]\n",
    "    if mid not in mid_map:\n",
    "        mid_map[mid] = [[rating]]\n",
    "    else:\n",
    "        mid_map[mid][0].append(rating)"
   ]
  },
  {
   "cell_type": "code",
   "execution_count": 0,
   "metadata": {
    "colab": {},
    "colab_type": "code",
    "id": "PbE4VPW1Zazh"
   },
   "outputs": [],
   "source": [
    "save_obj(mid_map, 'mid_map')"
   ]
  },
  {
   "cell_type": "code",
   "execution_count": 0,
   "metadata": {
    "colab": {
     "base_uri": "https://localhost:8080/",
     "height": 35
    },
    "colab_type": "code",
    "id": "sXPigP66bgIU",
    "outputId": "832a9465-d323-4d95-98c8-3638c0e0ee4a"
   },
   "outputs": [
    {
     "data": {
      "text/plain": [
       "16142"
      ]
     },
     "execution_count": 22,
     "metadata": {
      "tags": []
     },
     "output_type": "execute_result"
    }
   ],
   "source": [
    "len(mid_map)"
   ]
  },
  {
   "cell_type": "code",
   "execution_count": 0,
   "metadata": {
    "colab": {},
    "colab_type": "code",
    "id": "9_dsCXS-bIBq"
   },
   "outputs": [],
   "source": [
    "mov_dict = mid_map.copy()"
   ]
  },
  {
   "cell_type": "code",
   "execution_count": 0,
   "metadata": {
    "colab": {},
    "colab_type": "code",
    "id": "G-JeTmqDZaxF"
   },
   "outputs": [],
   "source": [
    "for mid in mov_dict:\n",
    "    no_ratings = len(mov_dict[mid][0])\n",
    "    mean_rating = np.mean(np.array(mov_dict[mid][0]))\n",
    "    std_dev = np.std(np.array(mov_dict[mid][0]))\n",
    "    mov_dict[mid][0] = mean_rating\n",
    "    mov_dict[mid].append(std_dev)\n",
    "    mov_dict[mid].append(no_ratings)"
   ]
  },
  {
   "cell_type": "code",
   "execution_count": 0,
   "metadata": {
    "colab": {},
    "colab_type": "code",
    "id": "dDK8L-WuZauN"
   },
   "outputs": [],
   "source": [
    "mx, my, mz = [], [], []\n",
    "for i, mid in enumerate(mov_dict):\n",
    "    mx.append(mov_dict[mid][0])\n",
    "    my.append(mov_dict[mid][1])\n",
    "    mz.append(mov_dict[mid][2])"
   ]
  },
  {
   "cell_type": "code",
   "execution_count": 0,
   "metadata": {
    "colab": {
     "base_uri": "https://localhost:8080/",
     "height": 248
    },
    "colab_type": "code",
    "id": "tnF_UG_sblRj",
    "outputId": "3192554f-0a4a-4464-8ba5-b9dadcc46820"
   },
   "outputs": [
    {
     "data": {
      "image/png": "[encoded data removed]",
      "text/plain": [
       "<Figure size 432x288 with 1 Axes>"
      ]
     },
     "metadata": {
      "needs_background": "light",
      "tags": []
     },
     "output_type": "display_data"
    }
   ],
   "source": [
    "fig = plt.figure()\n",
    "ax = fig.add_subplot(111, projection='3d')\n",
    "ax.scatter(mx, my, mz)\n",
    "plt.show()"
   ]
  },
  {
   "cell_type": "code",
   "execution_count": 0,
   "metadata": {
    "colab": {
     "base_uri": "https://localhost:8080/",
     "height": 283
    },
    "colab_type": "code",
    "id": "vVg7pWV6blO_",
    "outputId": "b48ffcd5-40d0-4c1f-ee88-e1af4c9cc0bd"
   },
   "outputs": [
    {
     "data": {
      "text/plain": [
       "<matplotlib.collections.PathCollection at 0x7f7691e91048>"
      ]
     },
     "execution_count": 27,
     "metadata": {
      "tags": []
     },
     "output_type": "execute_result"
    },
    {
     "data": {
      "image/png": "[encoded data removed]",
      "text/plain": [
       "<Figure size 432x288 with 1 Axes>"
      ]
     },
     "metadata": {
      "needs_background": "light",
      "tags": []
     },
     "output_type": "display_data"
    }
   ],
   "source": [
    "plt.scatter(mx, my)"
   ]
  },
  {
   "cell_type": "code",
   "execution_count": 0,
   "metadata": {
    "colab": {
     "base_uri": "https://localhost:8080/",
     "height": 283
    },
    "colab_type": "code",
    "id": "Q8pemrX0ZarB",
    "outputId": "a8cb84eb-ef68-4108-b6b3-833f06c39075"
   },
   "outputs": [
    {
     "data": {
      "text/plain": [
       "<matplotlib.collections.PathCollection at 0x7f7691a0e898>"
      ]
     },
     "execution_count": 28,
     "metadata": {
      "tags": []
     },
     "output_type": "execute_result"
    },
    {
     "data": {
      "image/png": "[encoded data removed]",
      "text/plain": [
       "<Figure size 432x288 with 1 Axes>"
      ]
     },
     "metadata": {
      "needs_background": "light",
      "tags": []
     },
     "output_type": "display_data"
    }
   ],
   "source": [
    "plt.scatter(mx, mz)"
   ]
  },
  {
   "cell_type": "code",
   "execution_count": 0,
   "metadata": {
    "colab": {},
    "colab_type": "code",
    "id": "-Sjy7EM11BO7"
   },
   "outputs": [],
   "source": [
    "# tsne experiments\n",
    "from sklearn.manifold import TSNE"
   ]
  },
  {
   "cell_type": "code",
   "execution_count": 0,
   "metadata": {
    "colab": {},
    "colab_type": "code",
    "id": "jzI3K1EC1BMQ"
   },
   "outputs": [],
   "source": [
    "TSNE(n_components=2, perplexity=30.0, early_exaggeration=12.0, learning_rate=200.0, n_iter=1000,\n",
    "     n_iter_without_progress=300, min_grad_norm=1e-07, metric='euclidean', \n",
    "     init='random', verbose=0, random_state=None, method='barnes_hut', angle=0.5, n_jobs=None)"
   ]
  }
 ],
 "metadata": {
  "colab": {
   "machine_shape": "hm",
   "name": "spectral-clustering.ipynb",
   "provenance": []
  },
  "kernelspec": {
   "display_name": "Python 3",
   "language": "python",
   "name": "python3"
  },
  "language_info": {
   "codemirror_mode": {
    "name": "ipython",
    "version": 3
   },
   "file_extension": ".py",
   "mimetype": "text/x-python",
   "name": "python",
   "nbconvert_exporter": "python",
   "pygments_lexer": "ipython3",
   "version": "3.6.9"
  }
 },
 "nbformat": 4,
 "nbformat_minor": 1
}
