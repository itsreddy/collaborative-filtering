{
 "cells": [
  {
   "cell_type": "code",
   "execution_count": null,
   "metadata": {},
   "outputs": [],
   "source": [
    "import pandas as pd\n",
    "import io, csv, os, sys\n",
    "from sklearn.utils import shuffle\n",
    "import numpy as np\n",
    "from collections import defaultdict"
   ]
  },
  {
   "cell_type": "code",
   "execution_count": 0,
   "metadata": {
    "colab": {},
    "colab_type": "code",
    "id": "kPxp0vphkQns"
   },
   "outputs": [],
   "source": [
    "base_path = os.getcwd()\n",
    "sys.path.append(base_path)\n",
    "import spectral_clustering, save_utils, validate"
   ]
  },
  {
   "cell_type": "code",
   "execution_count": null,
   "metadata": {},
   "outputs": [],
   "source": [
    "class options:\n",
    "    def __init__(self):\n",
    "        self.save_objs = False\n",
    "        self.load_objs = False\n",
    "        self.split_dataset = True\n",
    "\n",
    "opt = options()"
   ]
  },
  {
   "cell_type": "code",
   "execution_count": null,
   "metadata": {},
   "outputs": [],
   "source": [
    "if opt.save_objs or opt.load_objs:\n",
    "    os.makedirs(base_path + '/obj/', exist_ok=True)\n",
    "    pre = base_path + '/obj/'"
   ]
  },
  {
   "cell_type": "code",
   "execution_count": null,
   "metadata": {},
   "outputs": [],
   "source": [
    "raw_df = pd.read_csv( base_path + \"train.csv\")\n",
    "raw_df = shuffle(raw_df)\n",
    "raw_df = raw_df.reset_index(drop=True)\n",
    "\n",
    "if opt.split_dataset:\n",
    "    train_df, validate_df = spectral_clustering.split_df(raw_df, 0.8)\n",
    "else:\n",
    "    train_df, validate_df = spectral_clustering.split_df(raw_df, 0.0)"
   ]
  },
  {
   "cell_type": "code",
   "execution_count": null,
   "metadata": {},
   "outputs": [],
   "source": [
    "train_customers = train_df['customer-id']\n",
    "train_cid_sorted = train_customers.sort_values()\n",
    "train_movies = train_df['movie-id']\n",
    "train_mid_sorted = train_movies.sort_values()\n",
    "\n",
    "train_cid = spectral_clustering.create_dict(train_cid_sorted)\n",
    "train_mid = spectral_clustering.create_dict(train_mid_sorted)\n",
    "\n",
    "train_movies_n = len(train_mid)\n",
    "train_cust_n = len(train_cid)\n",
    "print(train_movies_n, train_cust_n)"
   ]
  },
  {
   "cell_type": "code",
   "execution_count": null,
   "metadata": {},
   "outputs": [],
   "source": [
    "train_ratings = spectral_clustering.make_matrix(train_df, train_cid, train_mid)\n",
    "\n",
    "if opt.save_objs:\n",
    "    save_utils.save_obj(train_ratings, pre+'train_ratings')\n",
    "if opt.load_objs:\n",
    "    train_ratings = save_utils.load_obj(pre+'train_ratings')"
   ]
  },
  {
   "cell_type": "code",
   "execution_count": null,
   "metadata": {},
   "outputs": [],
   "source": [
    "preprocessed_matrix = process_matrix(train_ratings)\n",
    "\n",
    "train_movie_by_movie = create_affinity_matrix(preprocessed_matrix)\n",
    "\n",
    "cluster_labels, label_map = cluster(train_movie_by_movie)\n",
    "\n",
    "if opt.save_objs:\n",
    "    save_utils.save_obj(cluster_labels, pre+'cluster_labels')\n",
    "if opt.load_objs:\n",
    "    train_ratings = save_utils.load_obj(pre+'cluster_labels')"
   ]
  },
  {
   "cell_type": "code",
   "execution_count": null,
   "metadata": {},
   "outputs": [],
   "source": [
    "result = validate.predict(validate_df, train_cid,\n",
    "                    train_mid, train_ratings, train_movie_by_movie, \n",
    "                    cluster_labels, label_map, block_size=10000)\n",
    "\n",
    "np.savetxt(base_path + 'pred_final.txt', np.around(result[:, 2]))\n",
    "\n",
    "mse, rmse = calculate_metric(result, validate_df)"
   ]
  }
 ],
 "metadata": {
  "colab": {
   "machine_shape": "hm",
   "name": "spectral-clustering.ipynb",
   "provenance": []
  },
  "kernelspec": {
   "display_name": "Python 3",
   "language": "python",
   "name": "python3"
  },
  "language_info": {
   "codemirror_mode": {
    "name": "ipython",
    "version": 3
   },
   "file_extension": ".py",
   "mimetype": "text/x-python",
   "name": "python",
   "nbconvert_exporter": "python",
   "pygments_lexer": "ipython3",
   "version": "3.6.9"
  }
 },
 "nbformat": 4,
 "nbformat_minor": 1
}